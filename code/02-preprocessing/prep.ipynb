{
 "cells": [
  {
   "attachments": {},
   "cell_type": "markdown",
   "metadata": {},
   "source": [
    "# Predicting Housing Data\n",
    "This notebook makes all the necessary transformations to the data prior to training the model.\n",
    "\n",
    "## Import Libraries"
   ]
  },
  {
   "cell_type": "code",
   "execution_count": null,
   "metadata": {},
   "outputs": [],
   "source": [
    "# DML\n",
    "import pandas as pd\n",
    "\n",
    "# Encoders\n",
    "from sklearn.preprocessing import OrdinalEncoder, LabelEncoder\n",
    "\n",
    "# Convenience functions\n",
    "from my_functions import fill_all_missing_values"
   ]
  },
  {
   "attachments": {},
   "cell_type": "markdown",
   "metadata": {},
   "source": [
    "## Load data"
   ]
  },
  {
   "cell_type": "code",
   "execution_count": null,
   "metadata": {},
   "outputs": [],
   "source": [
    "# Read training dataset\n",
    "df_train = pd.read_csv(\n",
    "    filepath_or_buffer='../../data/raw/train.csv'\n",
    ")\n",
    "\n",
    "# Read testing dataset\n",
    "df_test = pd.read_csv(\n",
    "    filepath_or_buffer='../../data/raw/test.csv'\n",
    ")"
   ]
  },
  {
   "attachments": {},
   "cell_type": "markdown",
   "metadata": {},
   "source": [
    "## Preprocessing\n",
    "Fill missing values"
   ]
  },
  {
   "cell_type": "code",
   "execution_count": null,
   "metadata": {},
   "outputs": [],
   "source": [
    "# Columns to fill (manually)\n",
    "cols_fillna = [\n",
    "    'FireplaceQu',\n",
    "    'BsmtQual',\n",
    "    'BsmtCond',\n",
    "    'BsmtFinType1',\n",
    "    'BsmtFinType2'\n",
    "]\n",
    "\n",
    "# Fill NaNs manually\n",
    "df_train[cols_fillna] = df_train[cols_fillna].fillna('NA')\n",
    "df_test[cols_fillna] = df_test[cols_fillna].fillna('NA')\n",
    "\n",
    "# Fill columns with convenience function\n",
    "fill_all_missing_values(df_train)\n",
    "fill_all_missing_values(df_test)"
   ]
  },
  {
   "attachments": {},
   "cell_type": "markdown",
   "metadata": {},
   "source": [
    "Transform ordinal columns"
   ]
  },
  {
   "cell_type": "code",
   "execution_count": null,
   "metadata": {},
   "outputs": [],
   "source": [
    "# List of ordinal columns\n",
    "cols_ordinal = [\n",
    "    'BsmtQual',\n",
    "    'BsmtCond',\n",
    "    'BsmtQual',\n",
    "    'ExterCond',\n",
    "    'ExterQual',\n",
    "    'KitchenQual',\n",
    "    'PavedDrive',\n",
    "    'Electrical',\n",
    "    'BsmtFinType1',\n",
    "    'BsmtFinType2',\n",
    "    'Utilities',\n",
    "    'MSZoning',\n",
    "    'Foundation',\n",
    "    'Neighborhood',\n",
    "    'MasVnrType',\n",
    "    'SaleCondition',\n",
    "    'RoofStyle',\n",
    "    'RoofMatl'\n",
    "]\n",
    "\n",
    "# Transform all columns\n",
    "for col in cols_ordinal:\n",
    "    oe = OrdinalEncoder()\n",
    "    df_train[col] = oe.fit_transform(df_train[[col]])\n",
    "    df_test[col] = oe.transform(df_test[[col]])\n",
    "    del oe"
   ]
  },
  {
   "cell_type": "markdown",
   "metadata": {},
   "source": [
    "Transform categorical columns"
   ]
  },
  {
   "cell_type": "code",
   "execution_count": null,
   "metadata": {},
   "outputs": [],
   "source": [
    "cols_level = [\n",
    "    'Street',\n",
    "    'BldgType',\n",
    "    'SaleType',\n",
    "    'CentralAir'\n",
    "]\n",
    "\n",
    "for col in cols_level:\n",
    "    le = LabelEncoder()\n",
    "    df_train[col] = le.fit_transform(df_train[col])\n",
    "    df_test[col] = le.transform(df_test[col])"
   ]
  },
  {
   "attachments": {},
   "cell_type": "markdown",
   "metadata": {},
   "source": [
    "## Feature Engineering"
   ]
  },
  {
   "cell_type": "code",
   "execution_count": null,
   "metadata": {},
   "outputs": [],
   "source": [
    "# Create on both dfs\n",
    "for obj in [df_train, df_test]:\n",
    "    obj['BsmtRating'] = obj['BsmtCond'] * obj['BsmtQual']\n",
    "    obj['ExterRating'] = obj['ExterCond'] * obj['ExterQual']\n",
    "    obj['BsmtFinTypeRating'] = obj['BsmtFinType1'] * obj['BsmtFinType2']\n",
    "    obj['BsmtBath'] = obj['BsmtFullBath'] + obj['BsmtHalfBath']\n",
    "    obj['Bath'] = obj['FullBath'] + obj['HalfBath']\n",
    "    obj['PorchArea'] = obj['OpenPorchSF'] + obj['EnclosedPorch'] + obj['3SsnPorch'] + obj['ScreenPorch']"
   ]
  },
  {
   "attachments": {},
   "cell_type": "markdown",
   "metadata": {},
   "source": [
    "Drop useless columns"
   ]
  },
  {
   "cell_type": "code",
   "execution_count": null,
   "metadata": {},
   "outputs": [],
   "source": [
    "# List of columns to drop\n",
    "cols_drop = [\n",
    "    'Id',\n",
    "    'Alley',\n",
    "    'PoolQC',\n",
    "    'MiscFeature',\n",
    "    'Fence',\n",
    "    'MoSold',\n",
    "    'YrSold',\n",
    "    'MSSubClass',\n",
    "    'GarageType',\n",
    "    'GarageArea',\n",
    "    'GarageYrBlt',\n",
    "    'GarageFinish',\n",
    "    'YearRemodAdd',\n",
    "    'LandSlope',\n",
    "    'BsmtUnfSF',\n",
    "    'BsmtExposure',\n",
    "    '2ndFlrSF',\n",
    "    'LowQualFinSF',\n",
    "    'Condition1',\n",
    "    'Condition2',\n",
    "    'Heating',\n",
    "    'Exterior1st',\n",
    "    'Exterior2nd',\n",
    "    'HouseStyle',\n",
    "    'LotShape',\n",
    "    'LandContour',\n",
    "    'LotConfig',\n",
    "    'Functional',\n",
    "    'BsmtFinSF1',\n",
    "    'BsmtFinSF2',\n",
    "    'FireplaceQu',\n",
    "    'WoodDeckSF',\n",
    "    'GarageQual',\n",
    "    'GarageCond',\n",
    "    'OverallCond',\n",
    "    'OverallQual',\n",
    "    'ExterCond',\n",
    "    'ExterQual',\n",
    "    'BsmtCond',\n",
    "    'BsmtQual',\n",
    "    'BsmtFinType1',\n",
    "    'BsmtFinType2',\n",
    "    'HeatingQC',\n",
    "    'OpenPorchSF',\n",
    "    'EnclosedPorch',\n",
    "    '3SsnPorch',\n",
    "    'ScreenPorch',\n",
    "    'BsmtFullBath',\n",
    "    'BsmtHalfBath',\n",
    "    'FullBath',\n",
    "    'HalfBath'\n",
    "]\n",
    "\n",
    "# Drop columns on both dfs\n",
    "for obj in [df_train, df_test]:\n",
    "    obj.drop(\n",
    "        labels=cols_drop,\n",
    "        axis=1,\n",
    "        inplace=True\n",
    "    )"
   ]
  },
  {
   "attachments": {},
   "cell_type": "markdown",
   "metadata": {},
   "source": [
    "## Export processed data"
   ]
  },
  {
   "cell_type": "code",
   "execution_count": null,
   "metadata": {},
   "outputs": [],
   "source": [
    "# Export train\n",
    "df_train.to_csv(\n",
    "    path_or_buf='../../data/processed/train.csv',\n",
    "    index=False\n",
    ")\n",
    "\n",
    "# Export test\n",
    "df_test.to_csv(\n",
    "    path_or_buf='../../data/processed/test.csv',\n",
    "    index=False\n",
    ")"
   ]
  }
 ],
 "metadata": {
  "kernelspec": {
   "display_name": "Python 3",
   "language": "python",
   "name": "python3"
  },
  "language_info": {
   "codemirror_mode": {
    "name": "ipython",
    "version": 3
   },
   "file_extension": ".py",
   "mimetype": "text/x-python",
   "name": "python",
   "nbconvert_exporter": "python",
   "pygments_lexer": "ipython3",
   "version": "3.11.1"
  },
  "orig_nbformat": 4,
  "vscode": {
   "interpreter": {
    "hash": "aee8b7b246df8f9039afb4144a1f6fd8d2ca17a180786b69acc140d282b71a49"
   }
  }
 },
 "nbformat": 4,
 "nbformat_minor": 2
}
