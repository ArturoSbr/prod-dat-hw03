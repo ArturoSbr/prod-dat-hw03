{
 "cells": [
  {
   "attachments": {},
   "cell_type": "markdown",
   "metadata": {},
   "source": [
    "# Predicting Housing Data\n",
    "This notebook makes all the necessary transformations to the data prior to training the model.\n",
    "\n",
    "## Import Libraries"
   ]
  },
  {
   "cell_type": "code",
   "execution_count": null,
   "metadata": {},
   "outputs": [],
   "source": [
    "# DML\n",
    "import json\n",
    "import pickle\n",
    "import pandas as pd\n",
    "\n",
    "# ML\n",
    "from sklearn.ensemble import RandomForestRegressor\n",
    "from sklearn.model_selection import cross_val_score"
   ]
  },
  {
   "attachments": {},
   "cell_type": "markdown",
   "metadata": {},
   "source": [
    "## Load data"
   ]
  },
  {
   "cell_type": "code",
   "execution_count": null,
   "metadata": {},
   "outputs": [],
   "source": [
    "# Read training dataset\n",
    "df_train = pd.read_csv(\n",
    "    filepath_or_buffer='../../data/processed/train.csv'\n",
    ")\n",
    "\n",
    "# Read testing dataset\n",
    "df_test = pd.read_csv(\n",
    "    filepath_or_buffer='../../data/processed/test.csv'\n",
    ")"
   ]
  },
  {
   "attachments": {},
   "cell_type": "markdown",
   "metadata": {},
   "source": [
    "## Fit Model"
   ]
  },
  {
   "cell_type": "code",
   "execution_count": null,
   "metadata": {},
   "outputs": [],
   "source": [
    "# Slice data (target and features)\n",
    "y = df_train['SalePrice']\n",
    "X = df_train.drop(['SalePrice'], axis=1)\n",
    "\n",
    "# Try different parameters\n",
    "param_grid = [\n",
    "    100,\n",
    "    200,\n",
    "    300,\n",
    "    400\n",
    "]\n",
    "\n",
    "for n in param_grid:\n",
    "    \n",
    "    # Init model\n",
    "    model = RandomForestRegressor(\n",
    "        n_estimators=n,\n",
    "        random_state=42\n",
    "    )\n",
    "\n",
    "    # Fit model\n",
    "    model.fit(\n",
    "        X=X,\n",
    "        y=y\n",
    "    )\n",
    "\n",
    "    # CV Score\n",
    "    score = cross_val_score(\n",
    "        estimator=model,\n",
    "        X=X,\n",
    "        y=y,\n",
    "        cv=10\n",
    "    )\n",
    "    \n",
    "    # Debug score\n",
    "    print(\n",
    "        f'Random Forest with {n} trees:',\n",
    "        round(\n",
    "            score.mean(),\n",
    "            3\n",
    "        )\n",
    "    )"
   ]
  },
  {
   "attachments": {},
   "cell_type": "markdown",
   "metadata": {},
   "source": [
    "Best model based on CV score"
   ]
  },
  {
   "cell_type": "code",
   "execution_count": null,
   "metadata": {},
   "outputs": [],
   "source": [
    "# Init model\n",
    "model = RandomForestRegressor(\n",
    "    n_estimators=100,\n",
    "    random_state=42\n",
    ")\n",
    "\n",
    "# Fit model\n",
    "model.fit(\n",
    "    X=X,\n",
    "    y=y\n",
    ")\n",
    "\n",
    "# Parameters to string\n",
    "params = json.dumps(\n",
    "    model.get_params()\n",
    ")\n",
    "\n",
    "# String to json\n",
    "with open('../../results/model_params.json', 'w') as out:\n",
    "    out.write(params)\n",
    "\n",
    "# Export model as binary\n",
    "pickle.dump(\n",
    "    model,\n",
    "    open(\n",
    "        '../../results/model.pkl',\n",
    "        'wb'\n",
    "    )\n",
    ")"
   ]
  },
  {
   "attachments": {},
   "cell_type": "markdown",
   "metadata": {},
   "source": [
    "## Final Predictions"
   ]
  },
  {
   "cell_type": "code",
   "execution_count": null,
   "metadata": {},
   "outputs": [],
   "source": [
    "# Retrieve test ids\n",
    "df_pred = pd.read_csv(\n",
    "    filepath_or_buffer='../../data/raw/test.csv',\n",
    "    usecols=['Id']\n",
    ")\n",
    "\n",
    "# Make predictions\n",
    "df_pred['SalePrice'] = model.predict(df_test)\n",
    "\n",
    "# Export\n",
    "df_pred.to_csv(\n",
    "    path_or_buf='../../results/predictions.csv',\n",
    "    index=False\n",
    ")"
   ]
  }
 ],
 "metadata": {
  "kernelspec": {
   "display_name": "Python 3",
   "language": "python",
   "name": "python3"
  },
  "language_info": {
   "codemirror_mode": {
    "name": "ipython",
    "version": 3
   },
   "file_extension": ".py",
   "mimetype": "text/x-python",
   "name": "python",
   "nbconvert_exporter": "python",
   "pygments_lexer": "ipython3",
   "version": "3.11.1"
  },
  "orig_nbformat": 4,
  "vscode": {
   "interpreter": {
    "hash": "aee8b7b246df8f9039afb4144a1f6fd8d2ca17a180786b69acc140d282b71a49"
   }
  }
 },
 "nbformat": 4,
 "nbformat_minor": 2
}
