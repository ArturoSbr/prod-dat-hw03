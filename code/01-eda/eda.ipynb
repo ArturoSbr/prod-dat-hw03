{
 "cells": [
  {
   "attachments": {},
   "cell_type": "markdown",
   "metadata": {},
   "source": [
    "# Predicting Housing Data\n",
    "This notebook explores the housing dataset.\n",
    "\n",
    "## Import Libraries"
   ]
  },
  {
   "cell_type": "code",
   "execution_count": null,
   "metadata": {},
   "outputs": [],
   "source": [
    "# DML\n",
    "import pandas as pd\n",
    "\n",
    "# Visualization\n",
    "import seaborn as sns\n",
    "from matplotlib import pyplot as plt"
   ]
  },
  {
   "attachments": {},
   "cell_type": "markdown",
   "metadata": {},
   "source": [
    "## Load data"
   ]
  },
  {
   "cell_type": "code",
   "execution_count": null,
   "metadata": {},
   "outputs": [],
   "source": [
    "# Read training dataset\n",
    "df_train = pd.read_csv(\n",
    "    filepath_or_buffer='../../data/raw/train.csv'\n",
    ")\n",
    "\n",
    "# Read testing dataset\n",
    "df_test = pd.read_csv(\n",
    "    filepath_or_buffer='../../data/raw/test.csv'\n",
    ")\n",
    "\n",
    "# Summaries\n",
    "print(\n",
    "    'Shape of training dataset:',\n",
    "    df_train.shape\n",
    ")\n",
    "print(\n",
    "    'Duplicated rows:',\n",
    "    df_train.duplicated().sum()\n",
    ")"
   ]
  },
  {
   "attachments": {},
   "cell_type": "markdown",
   "metadata": {},
   "source": [
    "## EDA\n",
    "Visualize some features"
   ]
  },
  {
   "cell_type": "code",
   "execution_count": null,
   "metadata": {},
   "outputs": [],
   "source": [
    "# Init canvas\n",
    "fig, ax = plt.subplots(figsize=(25,10))\n",
    "\n",
    "# Plots\n",
    "sns.countplot(\n",
    "    x=df_train['SaleCondition']\n",
    ")\n",
    "sns.histplot(\n",
    "    x=df_train['SaleType'],\n",
    "    kde=True, ax=ax\n",
    ")\n",
    "sns.violinplot(\n",
    "    x=df_train['HouseStyle'],\n",
    "    y=df_train['SalePrice'],\n",
    "    ax=ax\n",
    ")\n",
    "sns.scatterplot(\n",
    "    x=df_train[\"Foundation\"],\n",
    "    y=df_train[\"SalePrice\"],\n",
    "    ax=ax\n",
    ")\n",
    "\n",
    "# Aesthetics\n",
    "plt.grid()\n",
    "\n",
    "# Show\n",
    "plt.show()"
   ]
  }
 ],
 "metadata": {
  "kernelspec": {
   "display_name": "Python 3",
   "language": "python",
   "name": "python3"
  },
  "language_info": {
   "codemirror_mode": {
    "name": "ipython",
    "version": 3
   },
   "file_extension": ".py",
   "mimetype": "text/x-python",
   "name": "python",
   "nbconvert_exporter": "python",
   "pygments_lexer": "ipython3",
   "version": "3.11.1"
  },
  "orig_nbformat": 4,
  "vscode": {
   "interpreter": {
    "hash": "aee8b7b246df8f9039afb4144a1f6fd8d2ca17a180786b69acc140d282b71a49"
   }
  }
 },
 "nbformat": 4,
 "nbformat_minor": 2
}
